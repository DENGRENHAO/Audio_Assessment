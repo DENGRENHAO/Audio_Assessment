{
 "cells": [
  {
   "cell_type": "code",
   "execution_count": 11,
   "id": "8134b987",
   "metadata": {
    "scrolled": true
   },
   "outputs": [
    {
     "name": "stdout",
     "output_type": "stream",
     "text": [
      "Requirement already satisfied: catboost in c:\\users\\teng\\anaconda3\\lib\\site-packages (1.1)\n",
      "Requirement already satisfied: scipy in c:\\users\\teng\\anaconda3\\lib\\site-packages (from catboost) (1.7.3)\n",
      "Requirement already satisfied: six in c:\\users\\teng\\anaconda3\\lib\\site-packages (from catboost) (1.16.0)\n",
      "Requirement already satisfied: graphviz in c:\\users\\teng\\anaconda3\\lib\\site-packages (from catboost) (0.20.1)\n",
      "Requirement already satisfied: pandas>=0.24.0 in c:\\users\\teng\\anaconda3\\lib\\site-packages (from catboost) (1.4.2)\n",
      "Requirement already satisfied: matplotlib in c:\\users\\teng\\anaconda3\\lib\\site-packages (from catboost) (3.5.1)\n",
      "Requirement already satisfied: numpy>=1.16.0 in c:\\users\\teng\\anaconda3\\lib\\site-packages (from catboost) (1.21.5)\n",
      "Requirement already satisfied: plotly in c:\\users\\teng\\anaconda3\\lib\\site-packages (from catboost) (5.6.0)\n",
      "Requirement already satisfied: python-dateutil>=2.8.1 in c:\\users\\teng\\anaconda3\\lib\\site-packages (from pandas>=0.24.0->catboost) (2.8.2)\n",
      "Requirement already satisfied: pytz>=2020.1 in c:\\users\\teng\\anaconda3\\lib\\site-packages (from pandas>=0.24.0->catboost) (2021.3)\n",
      "Requirement already satisfied: kiwisolver>=1.0.1 in c:\\users\\teng\\anaconda3\\lib\\site-packages (from matplotlib->catboost) (1.3.2)\n",
      "Requirement already satisfied: fonttools>=4.22.0 in c:\\users\\teng\\anaconda3\\lib\\site-packages (from matplotlib->catboost) (4.25.0)\n",
      "Requirement already satisfied: cycler>=0.10 in c:\\users\\teng\\anaconda3\\lib\\site-packages (from matplotlib->catboost) (0.11.0)\n",
      "Requirement already satisfied: packaging>=20.0 in c:\\users\\teng\\anaconda3\\lib\\site-packages (from matplotlib->catboost) (21.3)\n",
      "Requirement already satisfied: pyparsing>=2.2.1 in c:\\users\\teng\\anaconda3\\lib\\site-packages (from matplotlib->catboost) (3.0.4)\n",
      "Requirement already satisfied: pillow>=6.2.0 in c:\\users\\teng\\anaconda3\\lib\\site-packages (from matplotlib->catboost) (9.0.1)\n",
      "Requirement already satisfied: tenacity>=6.2.0 in c:\\users\\teng\\anaconda3\\lib\\site-packages (from plotly->catboost) (8.0.1)\n"
     ]
    }
   ],
   "source": [
    "!pip install catboost\n",
    "!pip install ipywidgets\n",
    "!pip install shap\n",
    "!jupyter nbextension enable --py widgetsnbextension"
   ]
  },
  {
   "cell_type": "code",
   "execution_count": 1,
   "id": "8efe0ed6",
   "metadata": {},
   "outputs": [],
   "source": [
    "from catboost import Pool, CatBoostClassifier\n",
    "import numpy as np\n",
    "import matplotlib.pyplot as plt\n",
    "import pandas as pd\n",
    "import pickle"
   ]
  },
  {
   "cell_type": "code",
   "execution_count": 2,
   "id": "df9544d2",
   "metadata": {},
   "outputs": [],
   "source": [
    "with open('./dataset/' + 'linebot_train' + '_user_features.pickle', 'rb') as handle:\n",
    "    X_train = pickle.load(handle)\n",
    "with open('./dataset/' + 'linebot_test' + '_user_features.pickle', 'rb') as handle:\n",
    "    X_test = pickle.load(handle)"
   ]
  },
  {
   "cell_type": "code",
   "execution_count": 3,
   "id": "77f81135",
   "metadata": {},
   "outputs": [
    {
     "name": "stdout",
     "output_type": "stream",
     "text": [
      "Train data\n",
      "User Features shape: (4280, 140)\n",
      "scores shape: (4280,)\n"
     ]
    }
   ],
   "source": [
    "X_train_features = X_train['cat_train_features']\n",
    "y_train_scores = X_train['y_train_scores']\n",
    "\n",
    "print(\"Train data\")\n",
    "print(\"User Features shape:\", X_train_features.shape)\n",
    "print(\"scores shape:\", y_train_scores.shape)"
   ]
  },
  {
   "cell_type": "code",
   "execution_count": 4,
   "id": "d599d277",
   "metadata": {},
   "outputs": [
    {
     "name": "stdout",
     "output_type": "stream",
     "text": [
      "Test data\n",
      "User Features shape: (1070, 140)\n",
      "scores shape: (1070,)\n"
     ]
    }
   ],
   "source": [
    "X_test_features = X_test['cat_test_features']\n",
    "y_test_scores = X_test['y_test_scores']\n",
    "\n",
    "print(\"Test data\")\n",
    "print(\"User Features shape:\", X_test_features.shape)\n",
    "print(\"scores shape:\", y_test_scores.shape)"
   ]
  },
  {
   "cell_type": "code",
   "execution_count": 5,
   "id": "701011dc",
   "metadata": {},
   "outputs": [],
   "source": [
    "from catboost import Pool, CatBoostClassifier"
   ]
  },
  {
   "cell_type": "code",
   "execution_count": 6,
   "id": "9d9bb516",
   "metadata": {},
   "outputs": [],
   "source": [
    "X_train_features[:, 15:106] = X_train_features[:, 15:106].astype(str)\n",
    "X_test_features[:, 15:106] = X_test_features[:, 15:106].astype(str)"
   ]
  },
  {
   "cell_type": "code",
   "execution_count": 7,
   "id": "2bffb8b2",
   "metadata": {},
   "outputs": [],
   "source": [
    "feature_importances = [6, 7, 12, 4, 13, 10, 11, 88, 106, 9, 14, 5, 8, 2, 117, 0, 132, 118, 121, 131, 100, 122, 129, 130, 124, 120, 20, 135, 133, 107, 123, 119, 139, 108, 112, 136, 3, 105, 90, 104, 127, 138, 134, 111, 126, 125, 110, 44, 137, 114, 61, 128, 16, 1, 115, 48, 73, 59, 109, 96, 84, 113, 54, 102, 65, 38, 58, 37, 75, 35, 66, 39, 116, 30, 60, 41, 85, 83, 70, 21, 94, 52, 99, 64, 27, 69, 22, 24, 31, 32, 95, 63, 97, 42, 93, 101, 17, 80, 87, 98, 40, 19, 77, 71, 34, 18, 55, 33, 103, 57, 47, 86, 53, 46, 91, 23, 36, 45, 25, 29, 82, 28, 79, 72, 50, 74, 56, 67, 68, 81, 15, 26, 43, 49, 51, 62, 76, 78, 89, 92]"
   ]
  },
  {
   "cell_type": "code",
   "execution_count": 8,
   "id": "8dac5d9c",
   "metadata": {},
   "outputs": [],
   "source": [
    "X_train_features = X_train_features[:, feature_importances[:]]\n",
    "X_test_features = X_test_features[:, feature_importances[:]]"
   ]
  },
  {
   "cell_type": "code",
   "execution_count": 9,
   "id": "23f10858",
   "metadata": {
    "scrolled": true
   },
   "outputs": [
    {
     "name": "stdout",
     "output_type": "stream",
     "text": [
      "(4280, 140) (1070, 140)\n"
     ]
    },
    {
     "data": {
      "text/plain": [
       "array([['學生', 4, 2.5, 23.0, 2.6, 2, 3, '0.0', 67.9288210808362, 3.5,\n",
       "        '偏吵雜的工作場所', '大學', 2, '室外', 50.47718917846747, '4',\n",
       "        72.08562990809602, 56.6434097018443, 67.92935292827207,\n",
       "        75.34290144810711, '1.0', 65.22791204544602, 72.38151349689876,\n",
       "        72.85390115510484, 69.46026722766617, 66.52866200074193, '0.0',\n",
       "        66.55622533661031, 70.5402945204378, 72.81385013104897,\n",
       "        65.65043589943046, 62.50552414571024, 1631906318.4540648,\n",
       "        76.15121688768451, 0.0, 66.14869839844009, '女性', '0.0', '0.0',\n",
       "        '0.0', 72.88845539575964, 13963788628.545378, 69.23927063716944,\n",
       "        78.48290734391462, 71.70660051022645, 69.52068482708732,\n",
       "        85.6451980468612, '0.0', 942437433.320309, 0.0, '0.0',\n",
       "        71.20127419734547, '0.0', 81.3, 511.0, '0.0', '0.0', '0.0',\n",
       "        82.77402241184832, '0.0', '0.0', 0.0, '0.0', '0.0', '0.0', '0.0',\n",
       "        '0.0', '0.0', '0.0', '0.0', '0.0', '0.0', 999.0, '0.0', '0.0',\n",
       "        '0.0', '0.0', '0.0', '0.0', '0.0', '0.0', '0.0', '0.0', '0.0',\n",
       "        '0.0', '0.0', '0.0', '0.0', '0.0', '0.0', '0.0', '0.0', '0.0',\n",
       "        '0.0', '0.0', '0.0', '0.0', '0.0', '0.0', '0.0', '0.0', '0.0',\n",
       "        '0.0', '0.0', '0.0', '0.0', '0.0', '0.0', '0.0', '0.0', '0.0',\n",
       "        '0.0', '0.0', '0.0', '0.0', '0.0', '0.0', '0.0', '0.0', '0.0',\n",
       "        '0.0', '0.0', '0.0', '0.0', '0.0', '0.0', '0.0', '0.0', '0.0',\n",
       "        '0.0', '0.0', '0.0', '0.0', '0.0', '0.0', '0.0', '0.0', '0.0',\n",
       "        '0.0', '0.0'],\n",
       "       ['學生', 11, 4, 26.0, 3.4, 3, 4, '0.0', 7.671942767968526, 1.5,\n",
       "        '住家', '研究所(含)以上', 3, '室內', 22.04145865221126, '2',\n",
       "        41.7901305223082, 30.3575300373635, 39.952643226904236,\n",
       "        40.58824367187624, '0.0', 41.99937989854363, 40.37377461899013,\n",
       "        39.702375016249306, 44.55180424644582, 42.41192371468397, '1.0',\n",
       "        41.35892818887981, 41.87218747116048, 14.211857662006839,\n",
       "        44.46520137410574, 38.3611758171452, 972938.7453072304,\n",
       "        22.2038512326449, 492.0, 40.780918271362836, '女性', '0.0', '0.0',\n",
       "        '0.0', 42.663633763894914, 9479104.150232323, 40.93315977585915,\n",
       "        22.94642632239432, 41.268265675156066, 42.142148832987665,\n",
       "        36.15322769317269, '0.0', 1227339.718372616, 0.0, '0.0',\n",
       "        42.77634904970967, '0.0', 26.73, 0.0, '0.0', '0.0', '0.0',\n",
       "        25.378026059733962, '0.0', '0.0', 0.0, '0.0', '0.0', '0.0',\n",
       "        '1.0', '0.0', '0.0', '0.0', '0.0', '0.0', '1.0', 0.0, '0.0',\n",
       "        '0.0', '0.0', '0.0', '0.0', '0.0', '0.0', '0.0', '0.0', '0.0',\n",
       "        '0.0', '0.0', '0.0', '0.0', '0.0', '0.0', '0.0', '0.0', '0.0',\n",
       "        '0.0', '1.0', '0.0', '0.0', '0.0', '0.0', '0.0', '0.0', '0.0',\n",
       "        '0.0', '0.0', '0.0', '0.0', '0.0', '0.0', '0.0', '0.0', '0.0',\n",
       "        '0.0', '0.0', '0.0', '0.0', '0.0', '0.0', '0.0', '0.0', '0.0',\n",
       "        '0.0', '0.0', '0.0', '0.0', '0.0', '0.0', '0.0', '0.0', '0.0',\n",
       "        '0.0', '0.0', '0.0', '0.0', '0.0', '0.0', '0.0', '0.0', '0.0',\n",
       "        '0.0', '0.0', '0.0'],\n",
       "       ['學生', 1, 3.5, 22.0, 2.9, 2.5, 3, '0.0', 36.609762496074545, 3,\n",
       "        '住家', '大學', 2, '室內', 35.38635388255057, '3', 44.38361047043461,\n",
       "        36.372110897112336, 43.45029895119357, 45.897104588859065, '1.0',\n",
       "        54.10553307154927, 48.468716681007855, 46.70643432902154,\n",
       "        50.14215263295285, 39.68324876959414, '0.0', 42.337948814357844,\n",
       "        45.066482240815404, 39.524143112535654, 50.99100506738623,\n",
       "        37.01712013130621, 1164724.0529792695, 46.46632004214776, 15.0,\n",
       "        41.200675802059635, '男性', '0.0', '0.0', '0.0',\n",
       "        50.485222467801954, 7346506.501173827, 43.45128893266182,\n",
       "        47.913981106966105, 52.86288007701377, 54.211129581531864,\n",
       "        54.88367906255733, '0.0', 2900434.910263301, 0.0, '0.0',\n",
       "        46.66264342405141, '0.0', 48.97, 0.0, '0.0', '0.0', '0.0',\n",
       "        51.354653218080344, '0.0', '0.0', 26.0, '0.0', '0.0', '0.0',\n",
       "        '0.0', '0.0', '0.0', '0.0', '0.0', '0.0', '0.0', 0.0, '0.0',\n",
       "        '0.0', '0.0', '0.0', '0.0', '0.0', '0.0', '0.0', '0.0', '0.0',\n",
       "        '0.0', '0.0', '0.0', '0.0', '0.0', '0.0', '0.0', '0.0', '0.0',\n",
       "        '0.0', '0.0', '0.0', '0.0', '0.0', '0.0', '0.0', '0.0', '0.0',\n",
       "        '0.0', '0.0', '0.0', '0.0', '0.0', '0.0', '0.0', '0.0', '0.0',\n",
       "        '0.0', '0.0', '0.0', '0.0', '0.0', '0.0', '0.0', '0.0', '0.0',\n",
       "        '0.0', '0.0', '0.0', '0.0', '0.0', '0.0', '0.0', '0.0', '0.0',\n",
       "        '0.0', '0.0', '0.0', '0.0', '0.0', '0.0', '0.0', '0.0', '0.0',\n",
       "        '0.0', '0.0', '0.0'],\n",
       "       ['學生', 1, 2.5, 22.0, 3.1, 1, 3.5, '0.0', 24.512614828876412, 3,\n",
       "        '住家', '大學', 3, '室內', 38.17859200744308, '3', 61.15103346822072,\n",
       "        45.16995191640599, 53.80321781709363, 59.71267063830805, '0.0',\n",
       "        54.600944814159924, 56.21637136322049, 60.18226498739469,\n",
       "        53.39606035530086, 52.35267880660564, '1.0', 55.52431637425812,\n",
       "        57.414563046520996, 35.996700963054586, 54.188038818991174,\n",
       "        50.033640436945205, 21871232.85397912, 41.463468934155436, 336.0,\n",
       "        52.52681488449981, '女性', '0.0', '0.0', '0.0', 57.598799097694126,\n",
       "        197441624.16797093, 56.73038570783963, 55.65975070284449,\n",
       "        58.2530071832807, 53.34236112110255, 69.83619769491581, '0.0',\n",
       "        15381781.895430496, 62.0, '0.0', 54.71497416145426, '0.0', 59.0,\n",
       "        20.0, '0.0', '0.0', '0.0', 57.55654887614249, '0.0', '1.0', 87.0,\n",
       "        '0.0', '0.0', '0.0', '0.0', '0.0', '0.0', '0.0', '0.0', '0.0',\n",
       "        '0.0', 0.0, '0.0', '0.0', '0.0', '0.0', '0.0', '0.0', '0.0',\n",
       "        '0.0', '0.0', '0.0', '0.0', '0.0', '0.0', '0.0', '1.0', '0.0',\n",
       "        '0.0', '0.0', '0.0', '0.0', '0.0', '0.0', '0.0', '0.0', '0.0',\n",
       "        '0.0', '0.0', '0.0', '0.0', '0.0', '0.0', '0.0', '0.0', '0.0',\n",
       "        '0.0', '0.0', '0.0', '0.0', '0.0', '0.0', '0.0', '0.0', '0.0',\n",
       "        '0.0', '0.0', '0.0', '0.0', '0.0', '0.0', '0.0', '0.0', '0.0',\n",
       "        '0.0', '0.0', '0.0', '0.0', '0.0', '0.0', '0.0', '0.0', '0.0',\n",
       "        '0.0', '0.0', '0.0', '0.0', '0.0', '0.0'],\n",
       "       ['學生', 0, 3, 22.0, 3.6, 3, 3.5, '0.0', 16.400788421496994, 3,\n",
       "        '住家', '大學', 2.5, '室內', 20.58299206850222, '2', 47.01493292743858,\n",
       "        27.066229467305256, 36.94390704634582, 49.69855245871865, '0.0',\n",
       "        42.226838587020204, 50.822190463239366, 50.37026025205912,\n",
       "        46.93899324353174, 35.70653851513274, '0.0', 42.985467793424434,\n",
       "        45.78343853594895, 17.792182858790337, 45.497417224471675,\n",
       "        39.21808700306471, 1407390.1259797192, 19.384182057165393, 476.0,\n",
       "        40.14149732992571, '女性', '0.0', '0.0', '0.0', 53.10501992720587,\n",
       "        9811927.849737028, 44.87337039548258, 27.356280670591858,\n",
       "        52.41289297995004, 50.396388925766516, 52.02481003670919, '0.0',\n",
       "        1213644.7020406509, 0.0, '0.0', 52.91367954740785, '0.0', 40.65,\n",
       "        0.0, '0.0', '0.0', '0.0', 21.98041421804443, '0.0', '1.0', 2.0,\n",
       "        '0.0', '0.0', '0.0', '1.0', '0.0', '0.0', '0.0', '0.0', '0.0',\n",
       "        '1.0', 0.0, '0.0', '0.0', '0.0', '0.0', '0.0', '0.0', '0.0',\n",
       "        '0.0', '0.0', '0.0', '0.0', '0.0', '0.0', '0.0', '0.0', '0.0',\n",
       "        '0.0', '0.0', '0.0', '0.0', '1.0', '0.0', '0.0', '0.0', '0.0',\n",
       "        '0.0', '0.0', '0.0', '0.0', '0.0', '0.0', '0.0', '0.0', '0.0',\n",
       "        '0.0', '0.0', '0.0', '0.0', '0.0', '0.0', '0.0', '0.0', '0.0',\n",
       "        '0.0', '0.0', '0.0', '0.0', '0.0', '0.0', '0.0', '0.0', '0.0',\n",
       "        '0.0', '0.0', '0.0', '0.0', '0.0', '0.0', '0.0', '0.0', '0.0',\n",
       "        '0.0', '0.0', '0.0', '0.0', '0.0', '0.0']], dtype=object)"
      ]
     },
     "execution_count": 9,
     "metadata": {},
     "output_type": "execute_result"
    }
   ],
   "source": [
    "# Time_cat 0\n",
    "# DBA 1\n",
    "# In_Outside 2\n",
    "# Gender 3\n",
    "# Age\n",
    "# Education 5\n",
    "# Occupation 6\n",
    "# BSRS5\n",
    "# OpenMindedness_BFI\n",
    "# Conscientiousness_BFI\n",
    "# Extraversion_BFI\n",
    "# Agreeableness_BFI\n",
    "# NegativeEmotionality_BFI\n",
    "# NSSNoiseSensitivityScale\n",
    "# Location 14\n",
    "# Audio_class_cat_... 15~105\n",
    "print(X_train_features.shape, X_test_features.shape)\n",
    "X_train_features[:5]"
   ]
  },
  {
   "cell_type": "code",
   "execution_count": 10,
   "id": "d570d99e",
   "metadata": {
    "scrolled": false
   },
   "outputs": [
    {
     "data": {
      "application/vnd.jupyter.widget-view+json": {
       "model_id": "9677815a769a4d28b6fc98c335668fa2",
       "version_major": 2,
       "version_minor": 0
      },
      "text/plain": [
       "MetricVisualizer(layout=Layout(align_self='stretch', height='500px'))"
      ]
     },
     "metadata": {},
     "output_type": "display_data"
    },
    {
     "name": "stdout",
     "output_type": "stream",
     "text": [
      "0:\tlearn: 0.6840115\ttest: 0.6847848\tbest: 0.6847848 (0)\ttotal: 48.1ms\tremaining: 3m 12s\n",
      "100:\tlearn: 0.4380679\ttest: 0.4698643\tbest: 0.4698643 (100)\ttotal: 7.89s\tremaining: 5m 4s\n",
      "200:\tlearn: 0.3882488\ttest: 0.4441182\tbest: 0.4441182 (200)\ttotal: 15.4s\tremaining: 4m 51s\n",
      "300:\tlearn: 0.3581375\ttest: 0.4341302\tbest: 0.4341302 (300)\ttotal: 22.8s\tremaining: 4m 39s\n",
      "400:\tlearn: 0.3339239\ttest: 0.4298701\tbest: 0.4297795 (394)\ttotal: 30.3s\tremaining: 4m 31s\n",
      "500:\tlearn: 0.3158470\ttest: 0.4288289\tbest: 0.4285768 (492)\ttotal: 37.9s\tremaining: 4m 24s\n",
      "600:\tlearn: 0.3012966\ttest: 0.4274577\tbest: 0.4274567 (598)\ttotal: 45.3s\tremaining: 4m 16s\n",
      "700:\tlearn: 0.2887463\ttest: 0.4270916\tbest: 0.4268574 (684)\ttotal: 52.7s\tremaining: 4m 7s\n",
      "800:\tlearn: 0.2766477\ttest: 0.4267174\tbest: 0.4265769 (723)\ttotal: 1m\tremaining: 4m\n",
      "900:\tlearn: 0.2641444\ttest: 0.4262805\tbest: 0.4262186 (886)\ttotal: 1m 7s\tremaining: 3m 53s\n",
      "1000:\tlearn: 0.2562110\ttest: 0.4256173\tbest: 0.4253554 (986)\ttotal: 1m 15s\tremaining: 3m 46s\n",
      "1100:\tlearn: 0.2448659\ttest: 0.4254093\tbest: 0.4249741 (1045)\ttotal: 1m 23s\tremaining: 3m 39s\n",
      "1200:\tlearn: 0.2362200\ttest: 0.4252492\tbest: 0.4249383 (1168)\ttotal: 1m 30s\tremaining: 3m 31s\n",
      "1300:\tlearn: 0.2284329\ttest: 0.4268768\tbest: 0.4249383 (1168)\ttotal: 1m 37s\tremaining: 3m 23s\n",
      "1400:\tlearn: 0.2217796\ttest: 0.4280612\tbest: 0.4249383 (1168)\ttotal: 1m 45s\tremaining: 3m 16s\n",
      "bestTest = 0.4249382518\n",
      "bestIteration = 1168\n",
      "Shrink model to first 1169 iterations.\n"
     ]
    }
   ],
   "source": [
    "cat_features = []\n",
    "for idx, value in enumerate(X_train_features[0][:]):\n",
    "    if isinstance(value, str):\n",
    "        cat_features.append(idx)\n",
    "train_dataset = Pool(data=X_train_features[:, :],\n",
    "                     label=y_train_scores,\n",
    "                     cat_features=cat_features)\n",
    "\n",
    "eval_dataset = Pool(data=X_test_features[:, :],\n",
    "                    label=y_test_scores,\n",
    "                    cat_features=cat_features)\n",
    "\n",
    "# Initialize CatBoostClassifier\n",
    "model = CatBoostClassifier(iterations=4000,\n",
    "                           learning_rate=0.03,\n",
    "                           l2_leaf_reg=7,\n",
    "                           depth=8,\n",
    "                           use_best_model=True,\n",
    "                           early_stopping_rounds=300,\n",
    "                           task_type=\"GPU\",\n",
    "                           devices='0:1')\n",
    "\n",
    "# summary = model.select_features(train_dataset,\n",
    "#                                 eval_set=eval_dataset,\n",
    "#                                 features_for_select='0-139',\n",
    "#                                 num_features_to_select=50,\n",
    "#                                 steps=5,\n",
    "#                                 train_final_model=True,\n",
    "#                                 logging_level='Verbose',\n",
    "#                                 plot=True)\n",
    "# summary\n",
    "\n",
    "\n",
    "# Fit model\n",
    "\n",
    "model.fit(train_dataset, eval_set=eval_dataset, early_stopping_rounds=300, verbose=100, plot=True)\n",
    "# Get predicted classes\n",
    "preds_class = model.predict(eval_dataset)\n",
    "# Get predicted probabilities for each class\n",
    "preds_proba = model.predict_proba(eval_dataset)\n",
    "# Get predicted RawFormulaVal\n",
    "preds_raw = model.predict(eval_dataset,\n",
    "                          prediction_type='RawFormulaVal')\n",
    "\n",
    "\n",
    "#best params: 'params': {'depth': 10, 'l2_leaf_reg': 7, 'learning_rate': 0.1}\n",
    "# 'params': {'depth': 8, 'l2_leaf_reg': 7, 'learning_rate': 0.1},\n",
    "# grid = {'learning_rate': [0.03, 0.1, 0.3],\n",
    "#         'depth': [8, 10, 12],\n",
    "#         'l2_leaf_reg': [5, 7, 9]}\n",
    "\n",
    "# grid_search_result = model.grid_search(grid,\n",
    "#                                        X=train_dataset,\n",
    "#                                        verbose=100,\n",
    "#                                        plot=True)"
   ]
  },
  {
   "cell_type": "code",
   "execution_count": null,
   "id": "aadef9b5",
   "metadata": {},
   "outputs": [],
   "source": [
    "import shap\n",
    "shap.initjs()\n",
    "explainer = shap.TreeExplainer(model)\n",
    "shap_values = explainer.shap_values(train_dataset)\n",
    "# shap.force_plot(explainer.expected_value, shap_values[0,:], X_train_features[0, :9])"
   ]
  },
  {
   "cell_type": "code",
   "execution_count": null,
   "id": "66fd3cc8",
   "metadata": {
    "scrolled": true
   },
   "outputs": [],
   "source": [
    "features_names = [\n",
    "'Time_cat', \n",
    "'DBA', \n",
    "'In_Outside', \n",
    "'Gender', \n",
    "'Age', \n",
    "'Education', \n",
    "'Occupation', \n",
    "'BSRS5', \n",
    "'OpenMindedness_BFI', \n",
    "'Conscientiousness_BFI', \n",
    "'Extraversion_BFI', \n",
    "'Agreeableness_BFI', \n",
    "'NegativeEmotionality_BFI', \n",
    "'NSSNoiseSensitivityScale', \n",
    "'Location', \n",
    "'Audio_class_cat_交通噪音', \n",
    "'Audio_class_cat_公共汽車', \n",
    "'Audio_class_cat_公共空間', \n",
    "'Audio_class_cat_剪刀', \n",
    "'Audio_class_cat_劈啪作響聲', \n",
    "'Audio_class_cat_動物叫聲', \n",
    "'Audio_class_cat_卡車', \n",
    "'Audio_class_cat_叮噹作響', \n",
    "'Audio_class_cat_吹口哨', \n",
    "'Audio_class_cat_呼吸聲', \n",
    "'Audio_class_cat_咀嚼', \n",
    "'Audio_class_cat_咳嗽', \n",
    "'Audio_class_cat_哭聲', \n",
    "'Audio_class_cat_喇叭聲', \n",
    "'Audio_class_cat_喧嘩嘈雜聲', \n",
    "'Audio_class_cat_嗡嗡聲', \n",
    "'Audio_class_cat_嘎嘎聲', \n",
    "'Audio_class_cat_噪音', \n",
    "'Audio_class_cat_噴嚏', \n",
    "'Audio_class_cat_囓齒動物', \n",
    "'Audio_class_cat_垃圾車', \n",
    "'Audio_class_cat_城市的或人造的', \n",
    "'Audio_class_cat_大房間或大廳', \n",
    "'Audio_class_cat_安靜', \n",
    "'Audio_class_cat_室內', \n",
    "'Audio_class_cat_室外', \n",
    "'Audio_class_cat_對話', \n",
    "'Audio_class_cat_小房間', \n",
    "'Audio_class_cat_尖叫聲', \n",
    "'Audio_class_cat_工地噪音', \n",
    "'Audio_class_cat_廣播', \n",
    "'Audio_class_cat_引擎', \n",
    "'Audio_class_cat_心跳聲', \n",
    "'Audio_class_cat_戶外', \n",
    "'Audio_class_cat_打印機', \n",
    "'Audio_class_cat_打嗝', \n",
    "'Audio_class_cat_打字聲', \n",
    "'Audio_class_cat_拉門聲', \n",
    "'Audio_class_cat_掌聲', \n",
    "'Audio_class_cat_摩托車', \n",
    "'Audio_class_cat_摩擦聲', \n",
    "'Audio_class_cat_放屁', \n",
    "'Audio_class_cat_敲擊聲', \n",
    "'Audio_class_cat_書寫聲', \n",
    "'Audio_class_cat_機動車（公路）', \n",
    "'Audio_class_cat_機械聲', \n",
    "'Audio_class_cat_機械風扇', \n",
    "'Audio_class_cat_水上交通工具', \n",
    "'Audio_class_cat_沙沙聲', \n",
    "'Audio_class_cat_沸騰', \n",
    "'Audio_class_cat_流水聲', \n",
    "'Audio_class_cat_海浪聲', \n",
    "'Audio_class_cat_消防車', \n",
    "'Audio_class_cat_滑鼠聲', \n",
    "'Audio_class_cat_滴答聲', \n",
    "'Audio_class_cat_爆炸聲', \n",
    "'Audio_class_cat_球類', \n",
    "'Audio_class_cat_環境噪音', \n",
    "'Audio_class_cat_白噪聲', \n",
    "'Audio_class_cat_直升機', \n",
    "'Audio_class_cat_空調', \n",
    "'Audio_class_cat_笑聲', \n",
    "'Audio_class_cat_箭', \n",
    "'Audio_class_cat_粉紅噪音', \n",
    "'Audio_class_cat_聲納', \n",
    "'Audio_class_cat_腳步聲', \n",
    "'Audio_class_cat_自行車', \n",
    "'Audio_class_cat_蛙鳴', \n",
    "'Audio_class_cat_蟲鳴', \n",
    "'Audio_class_cat_說話', \n",
    "'Audio_class_cat_警報聲', \n",
    "'Audio_class_cat_警笛', \n",
    "'Audio_class_cat_跳動聲', \n",
    "'Audio_class_cat_車輛', \n",
    "'Audio_class_cat_道路噪音', \n",
    "'Audio_class_cat_鄉村或自然', \n",
    "'Audio_class_cat_鈴聲', \n",
    "'Audio_class_cat_鍋碗瓢盆', \n",
    "'Audio_class_cat_鐘聲', \n",
    "'Audio_class_cat_鐵路交通', \n",
    "'Audio_class_cat_鑽頭', \n",
    "'Audio_class_cat_雨聲', \n",
    "'Audio_class_cat_雷聲', \n",
    "'Audio_class_cat_電動工具', \n",
    "'Audio_class_cat_電視', \n",
    "'Audio_class_cat_音樂', \n",
    "'Audio_class_cat_風噪聲（麥克風）', \n",
    "'Audio_class_cat_風聲', \n",
    "'Audio_class_cat_飛機', \n",
    "'Audio_class_cat_馬達聲', \n",
    "'Audio_class_cat_鳥類叫聲', \n",
    "'Min', \n",
    "'LA90', \n",
    "'LA50', \n",
    "'LA10', \n",
    "'Max', \n",
    "'Leq', \n",
    "'< 45 dBA', \n",
    "'45~55dBA', \n",
    "'55~65dBA', \n",
    "'65~75dBA', \n",
    "'> 75dBA', \n",
    "'100Hz', \n",
    "'125Hz', \n",
    "'160Hz', \n",
    "'200Hz', \n",
    "'250Hz', \n",
    "'315Hz', \n",
    "'400Hz', \n",
    "'500Hz', \n",
    "'630Hz', \n",
    "'800Hz', \n",
    "'1000Hz', \n",
    "'1250Hz', \n",
    "'1600Hz', \n",
    "'2000Hz', \n",
    "'2500Hz', \n",
    "'3150Hz', \n",
    "'4000Hz', \n",
    "'5000Hz', \n",
    "'6300Hz',\n",
    "'8000Hz', \n",
    "'< 200Hz', \n",
    "'200~4000Hz', \n",
    "'> 4000Hz' ]\n",
    "len(features_names)"
   ]
  },
  {
   "cell_type": "code",
   "execution_count": null,
   "id": "9099e58c",
   "metadata": {
    "scrolled": true
   },
   "outputs": [],
   "source": [
    "print(model.feature_importances_)\n",
    "shap.summary_plot(shap_values, X_train_features[:, :])"
   ]
  },
  {
   "cell_type": "code",
   "execution_count": null,
   "id": "56046915",
   "metadata": {},
   "outputs": [],
   "source": [
    "user_importances = []\n",
    "class_importances = []\n",
    "audio_importances = []\n",
    "for i, importance in sorted(enumerate(model.feature_importances_), key=(lambda k: k[1]), reverse=True):\n",
    "    print(features_names[i])\n",
    "    if i < 15:\n",
    "        user_importances.append(features_names[i])\n",
    "    elif i < 106:\n",
    "        class_importances.append(features_names[i])\n",
    "    else:\n",
    "        audio_importances.append(features_names[i])"
   ]
  },
  {
   "cell_type": "code",
   "execution_count": 34,
   "id": "fcbd7938",
   "metadata": {},
   "outputs": [
    {
     "name": "stdout",
     "output_type": "stream",
     "text": [
      ", Min, 100Hz, 3150Hz, 125Hz, 250Hz, 2500Hz, 315Hz, 1600Hz, 2000Hz, 500Hz, 200Hz, 6300Hz, 4000Hz, LA90, 400Hz, 160Hz, > 4000Hz, LA50, < 45 dBA, 8000Hz\n"
     ]
    }
   ],
   "source": [
    "s = ''\n",
    "for i, label in enumerate(audio_importances):\n",
    "    s += (', ' + label[:])\n",
    "    if i >= 19:\n",
    "        break\n",
    "print(s)"
   ]
  },
  {
   "cell_type": "code",
   "execution_count": 10,
   "id": "e893b8f1",
   "metadata": {
    "scrolled": true
   },
   "outputs": [
    {
     "data": {
      "text/plain": [
       "array([0., 1., 1., ..., 0., 0., 0.])"
      ]
     },
     "execution_count": 10,
     "metadata": {},
     "output_type": "execute_result"
    }
   ],
   "source": [
    "preds_class"
   ]
  },
  {
   "cell_type": "code",
   "execution_count": 11,
   "id": "c9e0addc",
   "metadata": {},
   "outputs": [
    {
     "data": {
      "text/plain": [
       "array([[0.65061826, 0.34938174],\n",
       "       [0.10433375, 0.89566625],\n",
       "       [0.42647838, 0.57352162],\n",
       "       ...,\n",
       "       [0.95972733, 0.04027267],\n",
       "       [0.72525193, 0.27474807],\n",
       "       [0.64318813, 0.35681187]])"
      ]
     },
     "execution_count": 11,
     "metadata": {},
     "output_type": "execute_result"
    }
   ],
   "source": [
    "preds_proba"
   ]
  },
  {
   "cell_type": "code",
   "execution_count": 12,
   "id": "bc198641",
   "metadata": {},
   "outputs": [
    {
     "data": {
      "text/plain": [
       "array([-0.62175794,  2.14997292,  0.29623395, ..., -3.17097604,\n",
       "       -0.97066452, -0.58922858])"
      ]
     },
     "execution_count": 12,
     "metadata": {},
     "output_type": "execute_result"
    }
   ],
   "source": [
    "preds_raw"
   ]
  },
  {
   "cell_type": "code",
   "execution_count": 12,
   "id": "4e7f82a2",
   "metadata": {},
   "outputs": [],
   "source": [
    "from sklearn import metrics\n",
    "\n",
    "def auc(m, train, test): \n",
    "    return (metrics.roc_auc_score(y_train_scores,m.predict_proba(train)[:,1]),\n",
    "                            metrics.roc_auc_score(y_test_scores,m.predict_proba(test)[:,1]))"
   ]
  },
  {
   "cell_type": "code",
   "execution_count": 13,
   "id": "a2715edc",
   "metadata": {},
   "outputs": [
    {
     "data": {
      "text/plain": [
       "(0.9712075951064377, 0.8903857458780058)"
      ]
     },
     "execution_count": 13,
     "metadata": {},
     "output_type": "execute_result"
    }
   ],
   "source": [
    "auc(model, train_dataset, eval_dataset)"
   ]
  },
  {
   "cell_type": "code",
   "execution_count": 14,
   "id": "9891d840",
   "metadata": {},
   "outputs": [
    {
     "name": "stdout",
     "output_type": "stream",
     "text": [
      "0.8\n",
      "0.7999154153734306\n",
      "0.7999643635753815\n",
      "0.800426196008174\n"
     ]
    }
   ],
   "source": [
    "from sklearn.metrics import accuracy_score, f1_score, precision_score, recall_score\n",
    "\n",
    "print(accuracy_score(y_test_scores, preds_class))\n",
    "print(f1_score(y_test_scores, preds_class, average=\"macro\"))\n",
    "print(precision_score(y_test_scores, preds_class, average=\"macro\"))\n",
    "print(recall_score(y_test_scores, preds_class, average=\"macro\")) "
   ]
  },
  {
   "cell_type": "code",
   "execution_count": null,
   "id": "f161a10a",
   "metadata": {},
   "outputs": [],
   "source": []
  }
 ],
 "metadata": {
  "kernelspec": {
   "display_name": "Python 3 (ipykernel)",
   "language": "python",
   "name": "python3"
  },
  "language_info": {
   "codemirror_mode": {
    "name": "ipython",
    "version": 3
   },
   "file_extension": ".py",
   "mimetype": "text/x-python",
   "name": "python",
   "nbconvert_exporter": "python",
   "pygments_lexer": "ipython3",
   "version": "3.9.12"
  }
 },
 "nbformat": 4,
 "nbformat_minor": 5
}
